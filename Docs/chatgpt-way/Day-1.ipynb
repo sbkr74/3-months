{
 "cells": [
  {
   "cell_type": "markdown",
   "id": "a2f559aa",
   "metadata": {},
   "source": [
    "## Hour 1: Python Data Types, Variables, and Flow Control"
   ]
  },
  {
   "cell_type": "markdown",
   "id": "dbe39da9",
   "metadata": {},
   "source": [
    "### Sub-Tasks:\n"
   ]
  },
  {
   "cell_type": "markdown",
   "id": "5843b01d",
   "metadata": {},
   "source": [
    "1. Understand and define variables: strings, integers, floats, booleans"
   ]
  },
  {
   "cell_type": "markdown",
   "id": "c9a74645",
   "metadata": {
    "vscode": {
     "languageId": "plaintext"
    }
   },
   "source": [
    "Variables: That doesn't have fixed value and can be changed n number of times depending on user.\n",
    "\n",
    "- String: Anything within quotes (single/double) is treated as strings.\n",
    "- Integers: All the numbers positive,0 or negative without decimal points.\n",
    "- Floats: Decimal numbers are also included with integers.\n",
    "- Booleans: It store only two values it can be either TRUE or FALSE."
   ]
  },
  {
   "cell_type": "markdown",
   "id": "1a40d54c",
   "metadata": {},
   "source": [
    "2. Learn if, else, elif logic"
   ]
  },
  {
   "cell_type": "markdown",
   "id": "02fed91c",
   "metadata": {},
   "source": [
    "- if: When condition are True it should execute code inside if-block.\n",
    "\n",
    "- elif: When Condtion of if-block are not satisfied and check for elif condition. if conditions are aligned with elif-block, code inside will get executed.\n",
    "\n",
    "- else: When above conditions are failed means if and elif condition are not matched. code inside else-block will be executed."
   ]
  },
  {
   "cell_type": "markdown",
   "id": "7d65e0e4",
   "metadata": {},
   "source": [
    "3. Explore basic input/output functions"
   ]
  },
  {
   "cell_type": "markdown",
   "id": "f1d861e6",
   "metadata": {},
   "source": [
    "- input functions: This functions are needed to take inputs from user.\n",
    "like input()\n",
    "\n",
    "- output functions: This functions are used to display result to the user.\n",
    "like print()"
   ]
  },
  {
   "cell_type": "markdown",
   "id": "a4905057",
   "metadata": {},
   "source": [
    "4. Write and run basic Python code using a .py file or Jupyter Notebook"
   ]
  },
  {
   "cell_type": "code",
   "execution_count": null,
   "id": "08e216bc",
   "metadata": {},
   "outputs": [
    {
     "name": "stdout",
     "output_type": "stream",
     "text": [
      "shubham is 23yrs old.\n"
     ]
    }
   ],
   "source": [
    "f_name = input(\"Enter Your first name: \")\n",
    "age = int(input(\"Enter your age: \"))\n",
    "print(f\"{f_name} is {age} yrs old.\")"
   ]
  },
  {
   "cell_type": "markdown",
   "id": "310e0443",
   "metadata": {},
   "source": [
    "### Understanding Questions:"
   ]
  },
  {
   "cell_type": "markdown",
   "id": "7f377a41",
   "metadata": {},
   "source": [
    "- What’s the difference between = and == in Python?"
   ]
  },
  {
   "cell_type": "markdown",
   "id": "1ecdb77f",
   "metadata": {},
   "source": [
    "= : is an assignment operator it is used to assign value to variable that are on left side of `=` operator.\n",
    "\n",
    "== : is used to do comparsion between LHS and RHS. if LHS and RHS are same or equal then it will return True."
   ]
  },
  {
   "cell_type": "markdown",
   "id": "6075edfd",
   "metadata": {},
   "source": [
    "- How does Python determine the data type of a variable?"
   ]
  },
  {
   "cell_type": "markdown",
   "id": "ebe83b01",
   "metadata": {},
   "source": [
    "## N/A"
   ]
  },
  {
   "cell_type": "markdown",
   "id": "a974fffd",
   "metadata": {},
   "source": [
    "- What happens if you compare a string to an integer?"
   ]
  },
  {
   "cell_type": "markdown",
   "id": "65980c62",
   "metadata": {},
   "source": [
    "It will never satisfy conditions of being equal even if same digits are passed as string and integer."
   ]
  },
  {
   "cell_type": "markdown",
   "id": "3da3e672",
   "metadata": {},
   "source": [
    "### Challenge:"
   ]
  },
  {
   "cell_type": "markdown",
   "id": "55dca124",
   "metadata": {},
   "source": [
    "Write a program that takes a user's name and age and prints:\n",
    "\n",
    "> “Hello Alice, you’ll be 100 years old in the year 2090!”\n",
    "\n",
    "✅ Example input:\n",
    "\n",
    "```python\n",
    "name = \"Alice\"\n",
    "age = 30\n",
    "```\n",
    "\n",
    "✅ Expected output:\n",
    "\n",
    "```\n",
    "Hello Alice, you’ll be 100 years old in the year 2090!\n",
    "```"
   ]
  },
  {
   "cell_type": "code",
   "execution_count": 13,
   "id": "850b3bcf",
   "metadata": {},
   "outputs": [
    {
     "name": "stdout",
     "output_type": "stream",
     "text": [
      "Hello xyz, you'll be 100 years old in the year 2103.\n"
     ]
    }
   ],
   "source": [
    "import datetime as dt\n",
    "name = input(\"name = \")\n",
    "age = input(\"age = \")\n",
    "age = int(age)\n",
    "year = dt.datetime.now().year\n",
    "msg = f\"Hello {name}, you'll be 100 years old in the year {year+(100-age)}.\"\n",
    "print(msg)"
   ]
  },
  {
   "cell_type": "markdown",
   "id": "131b3bd0",
   "metadata": {},
   "source": [
    "### Tricky Task"
   ]
  },
  {
   "cell_type": "markdown",
   "id": "31e35805",
   "metadata": {},
   "source": [
    "Use a single line of code to:\n",
    "\n",
    "```python\n",
    "# Print whether a number is even or odd using a ternary operator\n",
    "```"
   ]
  },
  {
   "cell_type": "code",
   "execution_count": 16,
   "id": "aba7ce82",
   "metadata": {},
   "outputs": [
    {
     "name": "stdout",
     "output_type": "stream",
     "text": [
      "even\n"
     ]
    }
   ],
   "source": [
    "num = int(input(\"Enter a number to check even or odd: \"))\n",
    "result =( \"even\" if num%2==0 else \"odd\") \n",
    "print(result)"
   ]
  },
  {
   "cell_type": "code",
   "execution_count": 17,
   "id": "99917fa9",
   "metadata": {},
   "outputs": [
    {
     "name": "stdout",
     "output_type": "stream",
     "text": [
      "even\n"
     ]
    }
   ],
   "source": [
    "num = int(input(\"Enter a number to check even or odd: \"))\n",
    "print( \"even\" if num%2==0 else \"odd\") \n"
   ]
  }
 ],
 "metadata": {
  "kernelspec": {
   "display_name": "Python 3",
   "language": "python",
   "name": "python3"
  },
  "language_info": {
   "codemirror_mode": {
    "name": "ipython",
    "version": 3
   },
   "file_extension": ".py",
   "mimetype": "text/x-python",
   "name": "python",
   "nbconvert_exporter": "python",
   "pygments_lexer": "ipython3",
   "version": "3.11.8"
  }
 },
 "nbformat": 4,
 "nbformat_minor": 5
}
