{
 "cells": [
  {
   "cell_type": "markdown",
   "id": "a2f559aa",
   "metadata": {},
   "source": [
    "## Hour 1: Python Data Types, Variables, and Flow Control"
   ]
  },
  {
   "cell_type": "markdown",
   "id": "dbe39da9",
   "metadata": {},
   "source": [
    "### Sub-Tasks:\n"
   ]
  },
  {
   "cell_type": "markdown",
   "id": "5843b01d",
   "metadata": {},
   "source": [
    "1. Understand and define variables: strings, integers, floats, booleans"
   ]
  },
  {
   "cell_type": "markdown",
   "id": "c9a74645",
   "metadata": {
    "vscode": {
     "languageId": "plaintext"
    }
   },
   "source": [
    "Variables: Variables are containers that store data values in memory. They serve as named references to data that can be modified during program execution.<br><br>\n",
    "Variables are containers that store data values which can be modified throughout program execution based on application requirements.<br><br>\n",
    "`Improved:` Named references to objects stored in memory that can be dynamically assigned and reassigned during program execution, providing flexible data storage and manipulation.\n",
    "\n",
    "- String:  Strings are immutable objects used for storing and manipulating textual information.<br>\n",
    "`Improved:` Text data enclosed in quotation marks representing sequences of characters. In Python, strings are immutable objects used for storing and manipulating textual information.\n",
    "- Integers:  A numeric data type representing whole numbers without fractional components.\n",
    "- Floats: Floats are numeric data types that represent real numbers with decimal points, essential for precise calculations in financial applications and measurements.\n",
    "- Booleans:Booleans are logical data types that store binary values (true or false), primarily used for conditional statements, form validation, and controlling application flow."
   ]
  },
  {
   "cell_type": "markdown",
   "id": "1a40d54c",
   "metadata": {},
   "source": [
    "2. Learn if, else, elif logic"
   ]
  },
  {
   "cell_type": "markdown",
   "id": "02fed91c",
   "metadata": {},
   "source": [
    "- if: The `if` statement executes a code block when a specified condition evaluates to true, serving as the primary conditional control structure.\n",
    "\n",
    "- elif: The `elif` (else if) statement provides alternative conditions to test when the initial `if` condition is false, enabling multiple conditional pathways in a single control structure.\n",
    "\n",
    "- else: The `else` statement executes a default code block when all preceding `if` and `elif` conditions evaluate to false, providing a fallback execution path.\n",
    "\n",
    "**Overall Summary:**\n",
    "Conditional logic statements (`if`, `elif`, `else`) create decision-making structures that control program flow based on boolean evaluations, enabling dynamic responses to different scenarios in web applications."
   ]
  },
  {
   "cell_type": "markdown",
   "id": "7d65e0e4",
   "metadata": {},
   "source": [
    "3. Explore basic input/output functions"
   ]
  },
  {
   "cell_type": "markdown",
   "id": "f1d861e6",
   "metadata": {},
   "source": [
    "- input functions: - Used to capture user input from the console. It always returns a string, regardless of what the user types.\n",
    "like input()\n",
    "\n",
    "- output functions: - Displays output to the console. It supports multiple arguments and formatting options.\n",
    "like print()"
   ]
  },
  {
   "cell_type": "markdown",
   "id": "a4905057",
   "metadata": {},
   "source": [
    "4. Write and run basic Python code using a .py file or Jupyter Notebook"
   ]
  },
  {
   "cell_type": "code",
   "execution_count": null,
   "id": "08e216bc",
   "metadata": {},
   "outputs": [],
   "source": [
    "f_name = input(\"Enter Your first name: \")\n",
    "age = int(input(\"Enter your age: \"))\n",
    "print(f\"{f_name} is {age} yrs old.\")"
   ]
  },
  {
   "cell_type": "markdown",
   "id": "310e0443",
   "metadata": {},
   "source": [
    "### Understanding Questions:"
   ]
  },
  {
   "cell_type": "markdown",
   "id": "7f377a41",
   "metadata": {},
   "source": [
    "- What’s the difference between = and == in Python?"
   ]
  },
  {
   "cell_type": "markdown",
   "id": "1ecdb77f",
   "metadata": {},
   "source": [
    "= : is an assignment operator it is used to assign value to variable that are on left side of `=` operator.\n",
    "\n",
    "== : is used to do comparsion between LHS and RHS. if LHS and RHS are same or equal then it will return True."
   ]
  },
  {
   "cell_type": "markdown",
   "id": "6075edfd",
   "metadata": {},
   "source": [
    "- How does Python determine the data type of a variable?"
   ]
  },
  {
   "cell_type": "markdown",
   "id": "ebe83b01",
   "metadata": {},
   "source": [
    "- Python uses dynamic typing.\n",
    "    - You don’t need to declare types explicitly.\n",
    "    - The interpreter determines the type based on the value assigned."
   ]
  },
  {
   "cell_type": "markdown",
   "id": "a974fffd",
   "metadata": {},
   "source": [
    "- What happens if you compare a string to an integer?"
   ]
  },
  {
   "cell_type": "markdown",
   "id": "65980c62",
   "metadata": {},
   "source": [
    "If we compare string to an integer it leads two either they are not equal(==) or raise Type error(<>)."
   ]
  },
  {
   "cell_type": "markdown",
   "id": "3da3e672",
   "metadata": {},
   "source": [
    "### Challenge:"
   ]
  },
  {
   "cell_type": "markdown",
   "id": "55dca124",
   "metadata": {},
   "source": [
    "Write a program that takes a user's name and age and prints:\n",
    "\n",
    "> “Hello Alice, you’ll be 100 years old in the year 2090!”\n",
    "\n",
    "✅ Example input:\n",
    "\n",
    "```python\n",
    "name = \"Alice\"\n",
    "age = 30\n",
    "```\n",
    "\n",
    "✅ Expected output:\n",
    "\n",
    "```\n",
    "Hello Alice, you’ll be 100 years old in the year 2090!\n",
    "```"
   ]
  },
  {
   "cell_type": "code",
   "execution_count": null,
   "id": "850b3bcf",
   "metadata": {},
   "outputs": [],
   "source": [
    "import datetime as dt\n",
    "name = input(\"name = \")\n",
    "age = input(\"age = \")\n",
    "age = int(age)\n",
    "year = dt.datetime.now().year\n",
    "msg = f\"Hello {name}, you'll be 100 years old in the year {year+(100-age)}.\"\n",
    "print(msg)"
   ]
  },
  {
   "cell_type": "markdown",
   "id": "131b3bd0",
   "metadata": {},
   "source": [
    "### Tricky Task"
   ]
  },
  {
   "cell_type": "markdown",
   "id": "31e35805",
   "metadata": {},
   "source": [
    "Use a single line of code to:\n",
    "\n",
    "```python\n",
    "# Print whether a number is even or odd using a ternary operator\n",
    "```"
   ]
  },
  {
   "cell_type": "code",
   "execution_count": null,
   "id": "99917fa9",
   "metadata": {},
   "outputs": [],
   "source": [
    "num = int(input(\"Enter a number to check even or odd: \"))\n",
    "print( \"even\" if num%2==0 else \"odd\") \n"
   ]
  },
  {
   "cell_type": "code",
   "execution_count": null,
   "id": "fc54fa70",
   "metadata": {},
   "outputs": [],
   "source": [
    "print(\"even\" if int(input(\"Enter a number: \")) % 2 == 0 else \"odd\")\n"
   ]
  },
  {
   "cell_type": "markdown",
   "id": "cce68ba3",
   "metadata": {},
   "source": [
    "## ⏱ **Hour 2: Data Structures (Lists, Tuples, Dicts, Sets)**\n",
    "\n",
    "### 🔹 **Sub-Tasks:**"
   ]
  },
  {
   "cell_type": "markdown",
   "id": "2b97234e",
   "metadata": {},
   "source": [
    "* Learn operations on lists: append, pop, slice, index\n",
    "* Understand the immutability of tuples\n",
    "* Work with dictionaries: key-value access, `.get()`, `.keys()`, `.values()`\n",
    "* Basic set operations: union, intersection, difference"
   ]
  },
  {
   "cell_type": "markdown",
   "id": "ceba9e5d",
   "metadata": {},
   "source": [
    "### ❓ **Understanding Questions:**"
   ]
  },
  {
   "cell_type": "markdown",
   "id": "dec772b5",
   "metadata": {},
   "source": [
    "* When would you use a tuple over a list?\n",
    "* What is the output of `my_dict.get(\"missing_key\", \"Not found\")`?\n",
    "* Can a dictionary key be a list? Why/why not?"
   ]
  },
  {
   "cell_type": "markdown",
   "id": "151d403c",
   "metadata": {},
   "source": [
    "### ⚔️ **Challenge:**"
   ]
  },
  {
   "cell_type": "markdown",
   "id": "6a9d96f5",
   "metadata": {},
   "source": [
    "Create a list of 5 students and their marks using a dictionary:\n",
    "\n",
    "```python\n",
    "students = {\n",
    "    \"Alice\": 92,\n",
    "    \"Bob\": 75,\n",
    "    \"Charlie\": 88,\n",
    "    \"David\": 64,\n",
    "    \"Eva\": 99\n",
    "}\n",
    "```\n",
    "\n",
    "* Print names of students who scored above 85.\n",
    "* Print the average score."
   ]
  },
  {
   "cell_type": "markdown",
   "id": "0dc11ff9",
   "metadata": {},
   "source": [
    "### 🤯 **Tricky Task:**\n",
    "\n",
    "Use list comprehension to:\n",
    "\n",
    "```python\n",
    "# From a list of numbers, create a new list with only even squares of those numbers.\n",
    "```\n"
   ]
  }
 ],
 "metadata": {
  "kernelspec": {
   "display_name": "Python 3",
   "language": "python",
   "name": "python3"
  },
  "language_info": {
   "codemirror_mode": {
    "name": "ipython",
    "version": 3
   },
   "file_extension": ".py",
   "mimetype": "text/x-python",
   "name": "python",
   "nbconvert_exporter": "python",
   "pygments_lexer": "ipython3",
   "version": "3.11.8"
  }
 },
 "nbformat": 4,
 "nbformat_minor": 5
}
