{
 "cells": [
  {
   "cell_type": "markdown",
   "id": "a2f559aa",
   "metadata": {},
   "source": [
    "## Hour 1: Python Data Types, Variables, and Flow Control"
   ]
  },
  {
   "cell_type": "markdown",
   "id": "dbe39da9",
   "metadata": {},
   "source": [
    "### Sub-Tasks:\n"
   ]
  },
  {
   "cell_type": "markdown",
   "id": "5843b01d",
   "metadata": {},
   "source": [
    "1. Understand and define variables: strings, integers, floats, booleans"
   ]
  },
  {
   "cell_type": "markdown",
   "id": "c9a74645",
   "metadata": {
    "vscode": {
     "languageId": "plaintext"
    }
   },
   "source": [
    "Variables: That doesn't have fixed value and can be changed n number of times depending on user.\n",
    "\n",
    "- String: Anything within quotes (single/double) is treated as strings.\n",
    "- Integers: All the numbers positive,0 or negative without decimal points.\n",
    "- Floats: Decimal numbers are also included with integers.\n",
    "- Booleans: It store only two values it can be either TRUE or FALSE."
   ]
  },
  {
   "cell_type": "markdown",
   "id": "1a40d54c",
   "metadata": {},
   "source": [
    "2. Learn if, else, elif logic"
   ]
  },
  {
   "cell_type": "markdown",
   "id": "02fed91c",
   "metadata": {},
   "source": [
    "- if: When condition are True it should execute code inside if-block.\n",
    "\n",
    "- elif: When Condtion of if-block are not satisfied and check for elif condition. if conditions are aligned with elif-block, code inside will get executed.\n",
    "\n",
    "- else: When above conditions are failed means if and elif condition are not matched. code inside else-block will be executed."
   ]
  },
  {
   "cell_type": "markdown",
   "id": "7d65e0e4",
   "metadata": {},
   "source": [
    "3. Explore basic input/output functions"
   ]
  },
  {
   "cell_type": "markdown",
   "id": "f1d861e6",
   "metadata": {},
   "source": [
    "- input functions: This functions are needed to take inputs from user.\n",
    "like input()\n",
    "\n",
    "- output functions: This functions are used to display result to the user.\n",
    "like print()"
   ]
  },
  {
   "cell_type": "markdown",
   "id": "a4905057",
   "metadata": {},
   "source": [
    "4. Write and run basic Python code using a .py file or Jupyter Notebook"
   ]
  },
  {
   "cell_type": "code",
   "execution_count": null,
   "id": "08e216bc",
   "metadata": {},
   "outputs": [
    {
     "name": "stdout",
     "output_type": "stream",
     "text": [
      "shubham is 23yrs old.\n"
     ]
    }
   ],
   "source": [
    "f_name = input(\"Enter Your first name: \")\n",
    "age = int(input(\"Enter your age: \"))\n",
    "print(f\"{f_name} is {age} yrs old.\")"
   ]
  }
 ],
 "metadata": {
  "kernelspec": {
   "display_name": "Python 3",
   "language": "python",
   "name": "python3"
  },
  "language_info": {
   "codemirror_mode": {
    "name": "ipython",
    "version": 3
   },
   "file_extension": ".py",
   "mimetype": "text/x-python",
   "name": "python",
   "nbconvert_exporter": "python",
   "pygments_lexer": "ipython3",
   "version": "3.11.8"
  }
 },
 "nbformat": 4,
 "nbformat_minor": 5
}
